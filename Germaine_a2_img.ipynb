{
  "nbformat": 4,
  "nbformat_minor": 0,
  "metadata": {
    "colab": {
      "name": "a2-4.ipynb",
      "provenance": [],
      "collapsed_sections": [
        "lCMrrPTGdqT0"
      ],
      "toc_visible": true,
      "machine_shape": "hm"
    },
    "kernelspec": {
      "name": "python3",
      "display_name": "Python 3"
    },
    "language_info": {
      "name": "python"
    },
    "accelerator": "GPU"
  },
  "cells": [
    {
      "cell_type": "markdown",
      "metadata": {
        "id": "lCMrrPTGdqT0"
      },
      "source": [
        "# **前提**"
      ]
    },
    {
      "cell_type": "code",
      "metadata": {
        "id": "IEut0gTNduc4"
      },
      "source": [
        "## mount drive 先把google drive挂载到colab左边的临时列表下，\n",
        "## 然后会出现drive这个目录，里面包含了所有drive中的东西\n",
        "from google.colab import drive\n",
        "drive.mount('/content/drive') \n",
        "\n",
        "## 在左边找到要unzip的文件的绝对路径，然后复制到下面\n",
        "!unzip '/content/drive/MyDrive/Colab Notebooks/5329/a2/data.zip' -d '/content/drive/MyDrive/Colab Notebooks/5329/a2/data'"
      ],
      "execution_count": null,
      "outputs": []
    },
    {
      "cell_type": "code",
      "metadata": {
        "id": "R5pOMp9Rdv2c"
      },
      "source": [
        "#### csv文本读取方法\n",
        "import pandas as pd\n",
        "import numpy as np\n",
        "import re\n",
        "import csv\n",
        "\n",
        "#train = np.genfromtxt(\"train.csv\",delimiter=',') # 用于load txt csv\n",
        "#train = pd.read_csv('train.csv', sep=',',header=None) # 用于load 结构化数据，但是这里有的是3列，有的是4列\n",
        "#train = np.load(\"train.csv\",allow_pickle=True) # 用于load .npy\n",
        "#train = np.loadtxt(\"train.csv\", delimiter=',') # 只有csv文件中都是数字，.jpg这种格式不支持\n",
        "#with open(\"train.csv\") as f:\n",
        "#    data = csv.reader(f, delimiter = ',',)\n"
      ],
      "execution_count": null,
      "outputs": []
    },
    {
      "cell_type": "code",
      "metadata": {
        "id": "pqzhXgYTdybK"
      },
      "source": [
        "from glob import glob \n",
        "import cv2\n",
        "all_images = glob(\"data/*.jpg\")\n",
        "image0 = cv2.imread(all_images[0])\n",
        "plt.imshow(image0[:,:,::-1])"
      ],
      "execution_count": null,
      "outputs": []
    },
    {
      "cell_type": "markdown",
      "metadata": {
        "id": "IRu1u9p-7Rar"
      },
      "source": [
        "# **0 Importing Packages**\n",
        "\n"
      ]
    },
    {
      "cell_type": "code",
      "metadata": {
        "id": "tlyKPjf97tq_"
      },
      "source": [
        "import torch\n",
        "from torch import tensor, nn\n",
        "from torch.nn import functional as F\n",
        "from torch.utils.data import Dataset, DataLoader, random_split\n",
        "from torchvision import datasets, models, transforms\n",
        "from sklearn import metrics"
      ],
      "execution_count": 1,
      "outputs": []
    },
    {
      "cell_type": "markdown",
      "metadata": {
        "id": "CMYbStGqIfJW"
      },
      "source": [
        "# **1 Load data**"
      ]
    },
    {
      "cell_type": "markdown",
      "metadata": {
        "id": "3fxtzRds8Ue9"
      },
      "source": [
        "**1.1 Data Loading**\n",
        "\n"
      ]
    },
    {
      "cell_type": "code",
      "metadata": {
        "id": "PmC3QmjMwutF"
      },
      "source": [
        "from pydrive.auth import GoogleAuth\n",
        "from pydrive.drive import GoogleDrive\n",
        "from google.colab import auth\n",
        "from oauth2client.client import GoogleCredentials\n",
        "\n",
        "# 1. 验证身份并创建pydrive客户端.\n",
        "auth.authenticate_user()\n",
        "gauth = GoogleAuth()\n",
        "gauth.credentials = GoogleCredentials.get_application_default()\n",
        "drive = GoogleDrive(gauth)"
      ],
      "execution_count": 2,
      "outputs": []
    },
    {
      "cell_type": "code",
      "metadata": {
        "id": "lp2L-NlHycZh"
      },
      "source": [
        "downloaded = drive.CreateFile({'id': '1MQoBbuJANnSaZ5qzFGH5iqXpocYNgmOT'})\n",
        "downloaded.GetContentFile('train.csv')\n",
        "\n",
        "downloaded = drive.CreateFile({'id': '1L8AjKScAYvHIqIloI57vny17REAILfT4'})\n",
        "downloaded.GetContentFile('test.csv')\n",
        "\n",
        "downloaded = drive.CreateFile({'id': '1xg_Su0hWF2Dmw05-4mXTXBcxWOhKuCx_'})\n",
        "downloaded.GetContentFile('data.zip')"
      ],
      "execution_count": 3,
      "outputs": []
    },
    {
      "cell_type": "code",
      "metadata": {
        "id": "34xZPUN-B7IZ"
      },
      "source": [
        "!unzip data.zip -d data"
      ],
      "execution_count": null,
      "outputs": []
    },
    {
      "cell_type": "code",
      "metadata": {
        "id": "U5sFRzjfSz35"
      },
      "source": [
        "import pandas as pd\n",
        "import numpy as np\n",
        "import re\n",
        "import csv\n",
        "train = pd.read_csv('train.csv', sep=',')\n",
        "test = pd.read_csv('test.csv', sep=',')"
      ],
      "execution_count": 5,
      "outputs": []
    },
    {
      "cell_type": "code",
      "metadata": {
        "id": "s8nzC5K8NS-h"
      },
      "source": [
        "def label_transform(l):\n",
        "    y_ls = []\n",
        "    for each_label in l:\n",
        "        if each_label > 12:\n",
        "            each_label -= 1\n",
        "        each_label -= 1\n",
        "        y_ls.append(each_label)\n",
        "    return y_ls"
      ],
      "execution_count": 6,
      "outputs": []
    },
    {
      "cell_type": "code",
      "metadata": {
        "id": "YoyBXgmj0HN1"
      },
      "source": [
        "import os\n",
        "from PIL import Image\n",
        "\n",
        "def load_data(root = '/content/data/data'):\n",
        "    train_images, train_x, train_y, train_caption = [], [], [], []\n",
        "    test_images, test_x, test_caption = [], [], []\n",
        "    for i, name in enumerate(sorted(os.listdir(root))):\n",
        "        img = Image.open(os.path.join(root, name))\n",
        "        name_ls = int(name.split('.')[0])\n",
        "        if name_ls < 30000:\n",
        "            idx = train[train.ImageID == name].index[0]\n",
        "            train_images.append(name)\n",
        "            img = np.asarray(img)\n",
        "            train_x.append(img)\n",
        "            y = list(map(int, train.Labels.iloc[idx].split()))\n",
        "            y_trans = label_transform(y)\n",
        "            y = F.one_hot(torch.tensor(y_trans), 18)\n",
        "            # 如果总共有三维: \n",
        "            # dim=0代表0维与0维之间折叠起来; \n",
        "            # dim=1代表1维(每一行)与1维之间折叠起来;\n",
        "            # dim=2代表2维(每一列)与2维之间折叠起来\n",
        "            # reference: https://towardsdatascience.com/understanding-dimensions-in-pytorch-6edf9972d3be\n",
        "            y = y.sum(dim=0)\n",
        "            train_y.append(np.array(y))\n",
        "            train_caption.append(train.Caption.iloc[idx])\n",
        "            \n",
        "        else:\n",
        "            idx = test[test.ImageID == name].index[0]\n",
        "            test_images.append(name)\n",
        "            img = np.asarray(img)\n",
        "            test_x.append(img)\n",
        "            test_caption.append(test.Caption.iloc[idx])\n",
        "\n",
        "        #img = img.resize([s//reduce for s in img.size])\n",
        "    # reference: https://blog.csdn.net/weixin_44109545/article/details/115240842\n",
        "    \n",
        "    return train_images, np.array(train_x), np.array(train_y), np.array(train_caption), test_images, np.array(test_x), np.array(test_caption)"
      ],
      "execution_count": 7,
      "outputs": []
    },
    {
      "cell_type": "code",
      "metadata": {
        "id": "-nUwIUOyEXnl",
        "colab": {
          "base_uri": "https://localhost:8080/"
        },
        "outputId": "8fbd1de5-7ecb-4ed0-aee2-ae4d585e5ed6"
      },
      "source": [
        "# train = (30000,) \n",
        "# test = (10000,)\n",
        "train_images, train_x, train_y, train_caption, test_images, test_x, test_caption = load_data()"
      ],
      "execution_count": 8,
      "outputs": [
        {
          "output_type": "stream",
          "text": [
            "/usr/local/lib/python3.7/dist-packages/ipykernel_launcher.py:37: VisibleDeprecationWarning: Creating an ndarray from ragged nested sequences (which is a list-or-tuple of lists-or-tuples-or ndarrays with different lengths or shapes) is deprecated. If you meant to do this, you must specify 'dtype=object' when creating the ndarray\n"
          ],
          "name": "stderr"
        }
      ]
    },
    {
      "cell_type": "markdown",
      "metadata": {
        "id": "H7FGNSAI7H9R"
      },
      "source": [
        "**1.2 Defining Dataloaders**"
      ]
    },
    {
      "cell_type": "code",
      "metadata": {
        "id": "yxf9aYxW9mEZ"
      },
      "source": [
        "BATCH_SIZE = 128\n",
        "NUM_WORKERS = 1"
      ],
      "execution_count": 9,
      "outputs": []
    },
    {
      "cell_type": "code",
      "metadata": {
        "id": "PbYKZ9cO8nv8"
      },
      "source": [
        "use_cuda = True if torch.cuda.is_available() else False\n",
        "device = torch.device(\"cuda\" if torch.cuda.is_available() else \"cpu\")\n",
        "\n",
        "class DataProcess(Dataset):\n",
        "    def __init__(self, data, labels=None, transform=None, test=False):\n",
        "        self.data = data\n",
        "        self.label = labels\n",
        "        self.transform = transform\n",
        "        self.test = test\n",
        "    \n",
        "    def __len__(self):\n",
        "        return len(self.data)\n",
        "    \n",
        "    def __getitem__(self, idx):\n",
        "        if self.test == True: \n",
        "            x = self.data[idx]\n",
        "            x_copy = x.copy()\n",
        "            if self.transform:\n",
        "                x_copy = self.transform(x_copy)\n",
        "            return x_copy\n",
        "\n",
        "        x = self.data[idx]\n",
        "        y = self.label[idx]\n",
        "        x_copy = x.copy()\n",
        "        if self.transform:\n",
        "            x_copy = self.transform(x_copy)\n",
        "        # reference: https://blog.csdn.net/dong_liuqi/article/details/109823874\n",
        "       # y = np.pad(y, (0, 20-y.shape[0]), 'constant', constant_values=(0, -1))\n",
        "        return (x_copy,y)\n",
        "\n",
        "\n",
        "\n",
        "def get_loader():\n",
        "\n",
        "    transform = transforms.Compose([\n",
        "            transforms.ToTensor(),                        \n",
        "            transforms.Resize((224,224)),\n",
        "            \n",
        "           # transforms.RandomCrop(32, padding = 4),\n",
        "            transforms.Normalize((0.485, 0.456, 0.406), (0.229, 0.224, 0.224)),\n",
        "           # transforms.RandomHorizontalFlip()  \n",
        "    ])\n",
        "   # mean = np.array([0.485, 0.456, 0.406])\n",
        "   # std = np.array([0.229, 0.224, 0.224])\n",
        "   #  (x/255-mean)/std\n",
        "\n",
        "    train = DataProcess(train_x, train_y, transform)\n",
        "    train_size = int(0.8*len(train)) # 24000\n",
        "    val_size = int(0.2*len(train)) # 6000\n",
        "    train_dataset, val_dataset = random_split(train, [train_size, val_size])\n",
        "\n",
        "    test = DataProcess(test_x, transform = transform, test=True)\n",
        "\n",
        "    train_loader = DataLoader(dataset = train_dataset,\n",
        "                          batch_size = BATCH_SIZE,\n",
        "                          shuffle = True,\n",
        "                          num_workers = NUM_WORKERS)\n",
        "    \n",
        "    val_loader = DataLoader(dataset = val_dataset,\n",
        "                          batch_size = BATCH_SIZE,\n",
        "                          shuffle = True,\n",
        "                          num_workers = NUM_WORKERS)\n",
        "    \n",
        "    test_loader = DataLoader(dataset = test,\n",
        "                          batch_size = 1,\n",
        "                          shuffle = False)\n",
        "    \n",
        "    return train_loader, val_loader, test_loader\n"
      ],
      "execution_count": 11,
      "outputs": []
    },
    {
      "cell_type": "code",
      "metadata": {
        "id": "A2KWOrDAbSNm"
      },
      "source": [
        "train_loader, val_loader, test_loader = get_loader()"
      ],
      "execution_count": 13,
      "outputs": []
    },
    {
      "cell_type": "markdown",
      "metadata": {
        "id": "0ydNV7E6f3cV"
      },
      "source": [
        "# **2 Model Definition**"
      ]
    },
    {
      "cell_type": "code",
      "metadata": {
        "id": "2rCfFDrD_yFP",
        "colab": {
          "base_uri": "https://localhost:8080/"
        },
        "outputId": "a8f800ef-2563-49e8-8ab5-ce12e5bdfc76"
      },
      "source": [
        "resnet50 = models.resnet50(pretrained=True)\n",
        "resnet50.fc = nn.Linear(in_features=512, out_features=18, bias=True)\n",
        "resnet50.to('cuda')"
      ],
      "execution_count": 10,
      "outputs": [
        {
          "output_type": "execute_result",
          "data": {
            "text/plain": [
              "ResNet(\n",
              "  (conv1): Conv2d(3, 64, kernel_size=(7, 7), stride=(2, 2), padding=(3, 3), bias=False)\n",
              "  (bn1): BatchNorm2d(64, eps=1e-05, momentum=0.1, affine=True, track_running_stats=True)\n",
              "  (relu): ReLU(inplace=True)\n",
              "  (maxpool): MaxPool2d(kernel_size=3, stride=2, padding=1, dilation=1, ceil_mode=False)\n",
              "  (layer1): Sequential(\n",
              "    (0): Bottleneck(\n",
              "      (conv1): Conv2d(64, 64, kernel_size=(1, 1), stride=(1, 1), bias=False)\n",
              "      (bn1): BatchNorm2d(64, eps=1e-05, momentum=0.1, affine=True, track_running_stats=True)\n",
              "      (conv2): Conv2d(64, 64, kernel_size=(3, 3), stride=(1, 1), padding=(1, 1), bias=False)\n",
              "      (bn2): BatchNorm2d(64, eps=1e-05, momentum=0.1, affine=True, track_running_stats=True)\n",
              "      (conv3): Conv2d(64, 256, kernel_size=(1, 1), stride=(1, 1), bias=False)\n",
              "      (bn3): BatchNorm2d(256, eps=1e-05, momentum=0.1, affine=True, track_running_stats=True)\n",
              "      (relu): ReLU(inplace=True)\n",
              "      (downsample): Sequential(\n",
              "        (0): Conv2d(64, 256, kernel_size=(1, 1), stride=(1, 1), bias=False)\n",
              "        (1): BatchNorm2d(256, eps=1e-05, momentum=0.1, affine=True, track_running_stats=True)\n",
              "      )\n",
              "    )\n",
              "    (1): Bottleneck(\n",
              "      (conv1): Conv2d(256, 64, kernel_size=(1, 1), stride=(1, 1), bias=False)\n",
              "      (bn1): BatchNorm2d(64, eps=1e-05, momentum=0.1, affine=True, track_running_stats=True)\n",
              "      (conv2): Conv2d(64, 64, kernel_size=(3, 3), stride=(1, 1), padding=(1, 1), bias=False)\n",
              "      (bn2): BatchNorm2d(64, eps=1e-05, momentum=0.1, affine=True, track_running_stats=True)\n",
              "      (conv3): Conv2d(64, 256, kernel_size=(1, 1), stride=(1, 1), bias=False)\n",
              "      (bn3): BatchNorm2d(256, eps=1e-05, momentum=0.1, affine=True, track_running_stats=True)\n",
              "      (relu): ReLU(inplace=True)\n",
              "    )\n",
              "    (2): Bottleneck(\n",
              "      (conv1): Conv2d(256, 64, kernel_size=(1, 1), stride=(1, 1), bias=False)\n",
              "      (bn1): BatchNorm2d(64, eps=1e-05, momentum=0.1, affine=True, track_running_stats=True)\n",
              "      (conv2): Conv2d(64, 64, kernel_size=(3, 3), stride=(1, 1), padding=(1, 1), bias=False)\n",
              "      (bn2): BatchNorm2d(64, eps=1e-05, momentum=0.1, affine=True, track_running_stats=True)\n",
              "      (conv3): Conv2d(64, 256, kernel_size=(1, 1), stride=(1, 1), bias=False)\n",
              "      (bn3): BatchNorm2d(256, eps=1e-05, momentum=0.1, affine=True, track_running_stats=True)\n",
              "      (relu): ReLU(inplace=True)\n",
              "    )\n",
              "  )\n",
              "  (layer2): Sequential(\n",
              "    (0): Bottleneck(\n",
              "      (conv1): Conv2d(256, 128, kernel_size=(1, 1), stride=(1, 1), bias=False)\n",
              "      (bn1): BatchNorm2d(128, eps=1e-05, momentum=0.1, affine=True, track_running_stats=True)\n",
              "      (conv2): Conv2d(128, 128, kernel_size=(3, 3), stride=(2, 2), padding=(1, 1), bias=False)\n",
              "      (bn2): BatchNorm2d(128, eps=1e-05, momentum=0.1, affine=True, track_running_stats=True)\n",
              "      (conv3): Conv2d(128, 512, kernel_size=(1, 1), stride=(1, 1), bias=False)\n",
              "      (bn3): BatchNorm2d(512, eps=1e-05, momentum=0.1, affine=True, track_running_stats=True)\n",
              "      (relu): ReLU(inplace=True)\n",
              "      (downsample): Sequential(\n",
              "        (0): Conv2d(256, 512, kernel_size=(1, 1), stride=(2, 2), bias=False)\n",
              "        (1): BatchNorm2d(512, eps=1e-05, momentum=0.1, affine=True, track_running_stats=True)\n",
              "      )\n",
              "    )\n",
              "    (1): Bottleneck(\n",
              "      (conv1): Conv2d(512, 128, kernel_size=(1, 1), stride=(1, 1), bias=False)\n",
              "      (bn1): BatchNorm2d(128, eps=1e-05, momentum=0.1, affine=True, track_running_stats=True)\n",
              "      (conv2): Conv2d(128, 128, kernel_size=(3, 3), stride=(1, 1), padding=(1, 1), bias=False)\n",
              "      (bn2): BatchNorm2d(128, eps=1e-05, momentum=0.1, affine=True, track_running_stats=True)\n",
              "      (conv3): Conv2d(128, 512, kernel_size=(1, 1), stride=(1, 1), bias=False)\n",
              "      (bn3): BatchNorm2d(512, eps=1e-05, momentum=0.1, affine=True, track_running_stats=True)\n",
              "      (relu): ReLU(inplace=True)\n",
              "    )\n",
              "    (2): Bottleneck(\n",
              "      (conv1): Conv2d(512, 128, kernel_size=(1, 1), stride=(1, 1), bias=False)\n",
              "      (bn1): BatchNorm2d(128, eps=1e-05, momentum=0.1, affine=True, track_running_stats=True)\n",
              "      (conv2): Conv2d(128, 128, kernel_size=(3, 3), stride=(1, 1), padding=(1, 1), bias=False)\n",
              "      (bn2): BatchNorm2d(128, eps=1e-05, momentum=0.1, affine=True, track_running_stats=True)\n",
              "      (conv3): Conv2d(128, 512, kernel_size=(1, 1), stride=(1, 1), bias=False)\n",
              "      (bn3): BatchNorm2d(512, eps=1e-05, momentum=0.1, affine=True, track_running_stats=True)\n",
              "      (relu): ReLU(inplace=True)\n",
              "    )\n",
              "    (3): Bottleneck(\n",
              "      (conv1): Conv2d(512, 128, kernel_size=(1, 1), stride=(1, 1), bias=False)\n",
              "      (bn1): BatchNorm2d(128, eps=1e-05, momentum=0.1, affine=True, track_running_stats=True)\n",
              "      (conv2): Conv2d(128, 128, kernel_size=(3, 3), stride=(1, 1), padding=(1, 1), bias=False)\n",
              "      (bn2): BatchNorm2d(128, eps=1e-05, momentum=0.1, affine=True, track_running_stats=True)\n",
              "      (conv3): Conv2d(128, 512, kernel_size=(1, 1), stride=(1, 1), bias=False)\n",
              "      (bn3): BatchNorm2d(512, eps=1e-05, momentum=0.1, affine=True, track_running_stats=True)\n",
              "      (relu): ReLU(inplace=True)\n",
              "    )\n",
              "  )\n",
              "  (layer3): Sequential(\n",
              "    (0): Bottleneck(\n",
              "      (conv1): Conv2d(512, 256, kernel_size=(1, 1), stride=(1, 1), bias=False)\n",
              "      (bn1): BatchNorm2d(256, eps=1e-05, momentum=0.1, affine=True, track_running_stats=True)\n",
              "      (conv2): Conv2d(256, 256, kernel_size=(3, 3), stride=(2, 2), padding=(1, 1), bias=False)\n",
              "      (bn2): BatchNorm2d(256, eps=1e-05, momentum=0.1, affine=True, track_running_stats=True)\n",
              "      (conv3): Conv2d(256, 1024, kernel_size=(1, 1), stride=(1, 1), bias=False)\n",
              "      (bn3): BatchNorm2d(1024, eps=1e-05, momentum=0.1, affine=True, track_running_stats=True)\n",
              "      (relu): ReLU(inplace=True)\n",
              "      (downsample): Sequential(\n",
              "        (0): Conv2d(512, 1024, kernel_size=(1, 1), stride=(2, 2), bias=False)\n",
              "        (1): BatchNorm2d(1024, eps=1e-05, momentum=0.1, affine=True, track_running_stats=True)\n",
              "      )\n",
              "    )\n",
              "    (1): Bottleneck(\n",
              "      (conv1): Conv2d(1024, 256, kernel_size=(1, 1), stride=(1, 1), bias=False)\n",
              "      (bn1): BatchNorm2d(256, eps=1e-05, momentum=0.1, affine=True, track_running_stats=True)\n",
              "      (conv2): Conv2d(256, 256, kernel_size=(3, 3), stride=(1, 1), padding=(1, 1), bias=False)\n",
              "      (bn2): BatchNorm2d(256, eps=1e-05, momentum=0.1, affine=True, track_running_stats=True)\n",
              "      (conv3): Conv2d(256, 1024, kernel_size=(1, 1), stride=(1, 1), bias=False)\n",
              "      (bn3): BatchNorm2d(1024, eps=1e-05, momentum=0.1, affine=True, track_running_stats=True)\n",
              "      (relu): ReLU(inplace=True)\n",
              "    )\n",
              "    (2): Bottleneck(\n",
              "      (conv1): Conv2d(1024, 256, kernel_size=(1, 1), stride=(1, 1), bias=False)\n",
              "      (bn1): BatchNorm2d(256, eps=1e-05, momentum=0.1, affine=True, track_running_stats=True)\n",
              "      (conv2): Conv2d(256, 256, kernel_size=(3, 3), stride=(1, 1), padding=(1, 1), bias=False)\n",
              "      (bn2): BatchNorm2d(256, eps=1e-05, momentum=0.1, affine=True, track_running_stats=True)\n",
              "      (conv3): Conv2d(256, 1024, kernel_size=(1, 1), stride=(1, 1), bias=False)\n",
              "      (bn3): BatchNorm2d(1024, eps=1e-05, momentum=0.1, affine=True, track_running_stats=True)\n",
              "      (relu): ReLU(inplace=True)\n",
              "    )\n",
              "    (3): Bottleneck(\n",
              "      (conv1): Conv2d(1024, 256, kernel_size=(1, 1), stride=(1, 1), bias=False)\n",
              "      (bn1): BatchNorm2d(256, eps=1e-05, momentum=0.1, affine=True, track_running_stats=True)\n",
              "      (conv2): Conv2d(256, 256, kernel_size=(3, 3), stride=(1, 1), padding=(1, 1), bias=False)\n",
              "      (bn2): BatchNorm2d(256, eps=1e-05, momentum=0.1, affine=True, track_running_stats=True)\n",
              "      (conv3): Conv2d(256, 1024, kernel_size=(1, 1), stride=(1, 1), bias=False)\n",
              "      (bn3): BatchNorm2d(1024, eps=1e-05, momentum=0.1, affine=True, track_running_stats=True)\n",
              "      (relu): ReLU(inplace=True)\n",
              "    )\n",
              "    (4): Bottleneck(\n",
              "      (conv1): Conv2d(1024, 256, kernel_size=(1, 1), stride=(1, 1), bias=False)\n",
              "      (bn1): BatchNorm2d(256, eps=1e-05, momentum=0.1, affine=True, track_running_stats=True)\n",
              "      (conv2): Conv2d(256, 256, kernel_size=(3, 3), stride=(1, 1), padding=(1, 1), bias=False)\n",
              "      (bn2): BatchNorm2d(256, eps=1e-05, momentum=0.1, affine=True, track_running_stats=True)\n",
              "      (conv3): Conv2d(256, 1024, kernel_size=(1, 1), stride=(1, 1), bias=False)\n",
              "      (bn3): BatchNorm2d(1024, eps=1e-05, momentum=0.1, affine=True, track_running_stats=True)\n",
              "      (relu): ReLU(inplace=True)\n",
              "    )\n",
              "    (5): Bottleneck(\n",
              "      (conv1): Conv2d(1024, 256, kernel_size=(1, 1), stride=(1, 1), bias=False)\n",
              "      (bn1): BatchNorm2d(256, eps=1e-05, momentum=0.1, affine=True, track_running_stats=True)\n",
              "      (conv2): Conv2d(256, 256, kernel_size=(3, 3), stride=(1, 1), padding=(1, 1), bias=False)\n",
              "      (bn2): BatchNorm2d(256, eps=1e-05, momentum=0.1, affine=True, track_running_stats=True)\n",
              "      (conv3): Conv2d(256, 1024, kernel_size=(1, 1), stride=(1, 1), bias=False)\n",
              "      (bn3): BatchNorm2d(1024, eps=1e-05, momentum=0.1, affine=True, track_running_stats=True)\n",
              "      (relu): ReLU(inplace=True)\n",
              "    )\n",
              "  )\n",
              "  (layer4): Sequential(\n",
              "    (0): Bottleneck(\n",
              "      (conv1): Conv2d(1024, 512, kernel_size=(1, 1), stride=(1, 1), bias=False)\n",
              "      (bn1): BatchNorm2d(512, eps=1e-05, momentum=0.1, affine=True, track_running_stats=True)\n",
              "      (conv2): Conv2d(512, 512, kernel_size=(3, 3), stride=(2, 2), padding=(1, 1), bias=False)\n",
              "      (bn2): BatchNorm2d(512, eps=1e-05, momentum=0.1, affine=True, track_running_stats=True)\n",
              "      (conv3): Conv2d(512, 2048, kernel_size=(1, 1), stride=(1, 1), bias=False)\n",
              "      (bn3): BatchNorm2d(2048, eps=1e-05, momentum=0.1, affine=True, track_running_stats=True)\n",
              "      (relu): ReLU(inplace=True)\n",
              "      (downsample): Sequential(\n",
              "        (0): Conv2d(1024, 2048, kernel_size=(1, 1), stride=(2, 2), bias=False)\n",
              "        (1): BatchNorm2d(2048, eps=1e-05, momentum=0.1, affine=True, track_running_stats=True)\n",
              "      )\n",
              "    )\n",
              "    (1): Bottleneck(\n",
              "      (conv1): Conv2d(2048, 512, kernel_size=(1, 1), stride=(1, 1), bias=False)\n",
              "      (bn1): BatchNorm2d(512, eps=1e-05, momentum=0.1, affine=True, track_running_stats=True)\n",
              "      (conv2): Conv2d(512, 512, kernel_size=(3, 3), stride=(1, 1), padding=(1, 1), bias=False)\n",
              "      (bn2): BatchNorm2d(512, eps=1e-05, momentum=0.1, affine=True, track_running_stats=True)\n",
              "      (conv3): Conv2d(512, 2048, kernel_size=(1, 1), stride=(1, 1), bias=False)\n",
              "      (bn3): BatchNorm2d(2048, eps=1e-05, momentum=0.1, affine=True, track_running_stats=True)\n",
              "      (relu): ReLU(inplace=True)\n",
              "    )\n",
              "    (2): Bottleneck(\n",
              "      (conv1): Conv2d(2048, 512, kernel_size=(1, 1), stride=(1, 1), bias=False)\n",
              "      (bn1): BatchNorm2d(512, eps=1e-05, momentum=0.1, affine=True, track_running_stats=True)\n",
              "      (conv2): Conv2d(512, 512, kernel_size=(3, 3), stride=(1, 1), padding=(1, 1), bias=False)\n",
              "      (bn2): BatchNorm2d(512, eps=1e-05, momentum=0.1, affine=True, track_running_stats=True)\n",
              "      (conv3): Conv2d(512, 2048, kernel_size=(1, 1), stride=(1, 1), bias=False)\n",
              "      (bn3): BatchNorm2d(2048, eps=1e-05, momentum=0.1, affine=True, track_running_stats=True)\n",
              "      (relu): ReLU(inplace=True)\n",
              "    )\n",
              "  )\n",
              "  (avgpool): AdaptiveAvgPool2d(output_size=(1, 1))\n",
              "  (fc): Linear(in_features=2048, out_features=18, bias=True)\n",
              ")"
            ]
          },
          "metadata": {
            "tags": []
          },
          "execution_count": 10
        }
      ]
    },
    {
      "cell_type": "code",
      "metadata": {
        "colab": {
          "base_uri": "https://localhost:8080/"
        },
        "id": "V29WpsW30pN7",
        "outputId": "7173d37b-5cd5-4102-d65f-7b35db60f143"
      },
      "source": [
        "resnet50_2 = models.resnet50(pretrained=True)\n",
        "resnet50_2.fc = nn.Sequential(\n",
        "    nn.Linear(in_features=2048, out_features=512, bias=True),\n",
        "    nn.Linear(in_features=512, out_features=18, bias=True))\n",
        "resnet50_2.to('cuda')"
      ],
      "execution_count": 159,
      "outputs": [
        {
          "output_type": "execute_result",
          "data": {
            "text/plain": [
              "ResNet(\n",
              "  (conv1): Conv2d(3, 64, kernel_size=(7, 7), stride=(2, 2), padding=(3, 3), bias=False)\n",
              "  (bn1): BatchNorm2d(64, eps=1e-05, momentum=0.1, affine=True, track_running_stats=True)\n",
              "  (relu): ReLU(inplace=True)\n",
              "  (maxpool): MaxPool2d(kernel_size=3, stride=2, padding=1, dilation=1, ceil_mode=False)\n",
              "  (layer1): Sequential(\n",
              "    (0): Bottleneck(\n",
              "      (conv1): Conv2d(64, 64, kernel_size=(1, 1), stride=(1, 1), bias=False)\n",
              "      (bn1): BatchNorm2d(64, eps=1e-05, momentum=0.1, affine=True, track_running_stats=True)\n",
              "      (conv2): Conv2d(64, 64, kernel_size=(3, 3), stride=(1, 1), padding=(1, 1), bias=False)\n",
              "      (bn2): BatchNorm2d(64, eps=1e-05, momentum=0.1, affine=True, track_running_stats=True)\n",
              "      (conv3): Conv2d(64, 256, kernel_size=(1, 1), stride=(1, 1), bias=False)\n",
              "      (bn3): BatchNorm2d(256, eps=1e-05, momentum=0.1, affine=True, track_running_stats=True)\n",
              "      (relu): ReLU(inplace=True)\n",
              "      (downsample): Sequential(\n",
              "        (0): Conv2d(64, 256, kernel_size=(1, 1), stride=(1, 1), bias=False)\n",
              "        (1): BatchNorm2d(256, eps=1e-05, momentum=0.1, affine=True, track_running_stats=True)\n",
              "      )\n",
              "    )\n",
              "    (1): Bottleneck(\n",
              "      (conv1): Conv2d(256, 64, kernel_size=(1, 1), stride=(1, 1), bias=False)\n",
              "      (bn1): BatchNorm2d(64, eps=1e-05, momentum=0.1, affine=True, track_running_stats=True)\n",
              "      (conv2): Conv2d(64, 64, kernel_size=(3, 3), stride=(1, 1), padding=(1, 1), bias=False)\n",
              "      (bn2): BatchNorm2d(64, eps=1e-05, momentum=0.1, affine=True, track_running_stats=True)\n",
              "      (conv3): Conv2d(64, 256, kernel_size=(1, 1), stride=(1, 1), bias=False)\n",
              "      (bn3): BatchNorm2d(256, eps=1e-05, momentum=0.1, affine=True, track_running_stats=True)\n",
              "      (relu): ReLU(inplace=True)\n",
              "    )\n",
              "    (2): Bottleneck(\n",
              "      (conv1): Conv2d(256, 64, kernel_size=(1, 1), stride=(1, 1), bias=False)\n",
              "      (bn1): BatchNorm2d(64, eps=1e-05, momentum=0.1, affine=True, track_running_stats=True)\n",
              "      (conv2): Conv2d(64, 64, kernel_size=(3, 3), stride=(1, 1), padding=(1, 1), bias=False)\n",
              "      (bn2): BatchNorm2d(64, eps=1e-05, momentum=0.1, affine=True, track_running_stats=True)\n",
              "      (conv3): Conv2d(64, 256, kernel_size=(1, 1), stride=(1, 1), bias=False)\n",
              "      (bn3): BatchNorm2d(256, eps=1e-05, momentum=0.1, affine=True, track_running_stats=True)\n",
              "      (relu): ReLU(inplace=True)\n",
              "    )\n",
              "  )\n",
              "  (layer2): Sequential(\n",
              "    (0): Bottleneck(\n",
              "      (conv1): Conv2d(256, 128, kernel_size=(1, 1), stride=(1, 1), bias=False)\n",
              "      (bn1): BatchNorm2d(128, eps=1e-05, momentum=0.1, affine=True, track_running_stats=True)\n",
              "      (conv2): Conv2d(128, 128, kernel_size=(3, 3), stride=(2, 2), padding=(1, 1), bias=False)\n",
              "      (bn2): BatchNorm2d(128, eps=1e-05, momentum=0.1, affine=True, track_running_stats=True)\n",
              "      (conv3): Conv2d(128, 512, kernel_size=(1, 1), stride=(1, 1), bias=False)\n",
              "      (bn3): BatchNorm2d(512, eps=1e-05, momentum=0.1, affine=True, track_running_stats=True)\n",
              "      (relu): ReLU(inplace=True)\n",
              "      (downsample): Sequential(\n",
              "        (0): Conv2d(256, 512, kernel_size=(1, 1), stride=(2, 2), bias=False)\n",
              "        (1): BatchNorm2d(512, eps=1e-05, momentum=0.1, affine=True, track_running_stats=True)\n",
              "      )\n",
              "    )\n",
              "    (1): Bottleneck(\n",
              "      (conv1): Conv2d(512, 128, kernel_size=(1, 1), stride=(1, 1), bias=False)\n",
              "      (bn1): BatchNorm2d(128, eps=1e-05, momentum=0.1, affine=True, track_running_stats=True)\n",
              "      (conv2): Conv2d(128, 128, kernel_size=(3, 3), stride=(1, 1), padding=(1, 1), bias=False)\n",
              "      (bn2): BatchNorm2d(128, eps=1e-05, momentum=0.1, affine=True, track_running_stats=True)\n",
              "      (conv3): Conv2d(128, 512, kernel_size=(1, 1), stride=(1, 1), bias=False)\n",
              "      (bn3): BatchNorm2d(512, eps=1e-05, momentum=0.1, affine=True, track_running_stats=True)\n",
              "      (relu): ReLU(inplace=True)\n",
              "    )\n",
              "    (2): Bottleneck(\n",
              "      (conv1): Conv2d(512, 128, kernel_size=(1, 1), stride=(1, 1), bias=False)\n",
              "      (bn1): BatchNorm2d(128, eps=1e-05, momentum=0.1, affine=True, track_running_stats=True)\n",
              "      (conv2): Conv2d(128, 128, kernel_size=(3, 3), stride=(1, 1), padding=(1, 1), bias=False)\n",
              "      (bn2): BatchNorm2d(128, eps=1e-05, momentum=0.1, affine=True, track_running_stats=True)\n",
              "      (conv3): Conv2d(128, 512, kernel_size=(1, 1), stride=(1, 1), bias=False)\n",
              "      (bn3): BatchNorm2d(512, eps=1e-05, momentum=0.1, affine=True, track_running_stats=True)\n",
              "      (relu): ReLU(inplace=True)\n",
              "    )\n",
              "    (3): Bottleneck(\n",
              "      (conv1): Conv2d(512, 128, kernel_size=(1, 1), stride=(1, 1), bias=False)\n",
              "      (bn1): BatchNorm2d(128, eps=1e-05, momentum=0.1, affine=True, track_running_stats=True)\n",
              "      (conv2): Conv2d(128, 128, kernel_size=(3, 3), stride=(1, 1), padding=(1, 1), bias=False)\n",
              "      (bn2): BatchNorm2d(128, eps=1e-05, momentum=0.1, affine=True, track_running_stats=True)\n",
              "      (conv3): Conv2d(128, 512, kernel_size=(1, 1), stride=(1, 1), bias=False)\n",
              "      (bn3): BatchNorm2d(512, eps=1e-05, momentum=0.1, affine=True, track_running_stats=True)\n",
              "      (relu): ReLU(inplace=True)\n",
              "    )\n",
              "  )\n",
              "  (layer3): Sequential(\n",
              "    (0): Bottleneck(\n",
              "      (conv1): Conv2d(512, 256, kernel_size=(1, 1), stride=(1, 1), bias=False)\n",
              "      (bn1): BatchNorm2d(256, eps=1e-05, momentum=0.1, affine=True, track_running_stats=True)\n",
              "      (conv2): Conv2d(256, 256, kernel_size=(3, 3), stride=(2, 2), padding=(1, 1), bias=False)\n",
              "      (bn2): BatchNorm2d(256, eps=1e-05, momentum=0.1, affine=True, track_running_stats=True)\n",
              "      (conv3): Conv2d(256, 1024, kernel_size=(1, 1), stride=(1, 1), bias=False)\n",
              "      (bn3): BatchNorm2d(1024, eps=1e-05, momentum=0.1, affine=True, track_running_stats=True)\n",
              "      (relu): ReLU(inplace=True)\n",
              "      (downsample): Sequential(\n",
              "        (0): Conv2d(512, 1024, kernel_size=(1, 1), stride=(2, 2), bias=False)\n",
              "        (1): BatchNorm2d(1024, eps=1e-05, momentum=0.1, affine=True, track_running_stats=True)\n",
              "      )\n",
              "    )\n",
              "    (1): Bottleneck(\n",
              "      (conv1): Conv2d(1024, 256, kernel_size=(1, 1), stride=(1, 1), bias=False)\n",
              "      (bn1): BatchNorm2d(256, eps=1e-05, momentum=0.1, affine=True, track_running_stats=True)\n",
              "      (conv2): Conv2d(256, 256, kernel_size=(3, 3), stride=(1, 1), padding=(1, 1), bias=False)\n",
              "      (bn2): BatchNorm2d(256, eps=1e-05, momentum=0.1, affine=True, track_running_stats=True)\n",
              "      (conv3): Conv2d(256, 1024, kernel_size=(1, 1), stride=(1, 1), bias=False)\n",
              "      (bn3): BatchNorm2d(1024, eps=1e-05, momentum=0.1, affine=True, track_running_stats=True)\n",
              "      (relu): ReLU(inplace=True)\n",
              "    )\n",
              "    (2): Bottleneck(\n",
              "      (conv1): Conv2d(1024, 256, kernel_size=(1, 1), stride=(1, 1), bias=False)\n",
              "      (bn1): BatchNorm2d(256, eps=1e-05, momentum=0.1, affine=True, track_running_stats=True)\n",
              "      (conv2): Conv2d(256, 256, kernel_size=(3, 3), stride=(1, 1), padding=(1, 1), bias=False)\n",
              "      (bn2): BatchNorm2d(256, eps=1e-05, momentum=0.1, affine=True, track_running_stats=True)\n",
              "      (conv3): Conv2d(256, 1024, kernel_size=(1, 1), stride=(1, 1), bias=False)\n",
              "      (bn3): BatchNorm2d(1024, eps=1e-05, momentum=0.1, affine=True, track_running_stats=True)\n",
              "      (relu): ReLU(inplace=True)\n",
              "    )\n",
              "    (3): Bottleneck(\n",
              "      (conv1): Conv2d(1024, 256, kernel_size=(1, 1), stride=(1, 1), bias=False)\n",
              "      (bn1): BatchNorm2d(256, eps=1e-05, momentum=0.1, affine=True, track_running_stats=True)\n",
              "      (conv2): Conv2d(256, 256, kernel_size=(3, 3), stride=(1, 1), padding=(1, 1), bias=False)\n",
              "      (bn2): BatchNorm2d(256, eps=1e-05, momentum=0.1, affine=True, track_running_stats=True)\n",
              "      (conv3): Conv2d(256, 1024, kernel_size=(1, 1), stride=(1, 1), bias=False)\n",
              "      (bn3): BatchNorm2d(1024, eps=1e-05, momentum=0.1, affine=True, track_running_stats=True)\n",
              "      (relu): ReLU(inplace=True)\n",
              "    )\n",
              "    (4): Bottleneck(\n",
              "      (conv1): Conv2d(1024, 256, kernel_size=(1, 1), stride=(1, 1), bias=False)\n",
              "      (bn1): BatchNorm2d(256, eps=1e-05, momentum=0.1, affine=True, track_running_stats=True)\n",
              "      (conv2): Conv2d(256, 256, kernel_size=(3, 3), stride=(1, 1), padding=(1, 1), bias=False)\n",
              "      (bn2): BatchNorm2d(256, eps=1e-05, momentum=0.1, affine=True, track_running_stats=True)\n",
              "      (conv3): Conv2d(256, 1024, kernel_size=(1, 1), stride=(1, 1), bias=False)\n",
              "      (bn3): BatchNorm2d(1024, eps=1e-05, momentum=0.1, affine=True, track_running_stats=True)\n",
              "      (relu): ReLU(inplace=True)\n",
              "    )\n",
              "    (5): Bottleneck(\n",
              "      (conv1): Conv2d(1024, 256, kernel_size=(1, 1), stride=(1, 1), bias=False)\n",
              "      (bn1): BatchNorm2d(256, eps=1e-05, momentum=0.1, affine=True, track_running_stats=True)\n",
              "      (conv2): Conv2d(256, 256, kernel_size=(3, 3), stride=(1, 1), padding=(1, 1), bias=False)\n",
              "      (bn2): BatchNorm2d(256, eps=1e-05, momentum=0.1, affine=True, track_running_stats=True)\n",
              "      (conv3): Conv2d(256, 1024, kernel_size=(1, 1), stride=(1, 1), bias=False)\n",
              "      (bn3): BatchNorm2d(1024, eps=1e-05, momentum=0.1, affine=True, track_running_stats=True)\n",
              "      (relu): ReLU(inplace=True)\n",
              "    )\n",
              "  )\n",
              "  (layer4): Sequential(\n",
              "    (0): Bottleneck(\n",
              "      (conv1): Conv2d(1024, 512, kernel_size=(1, 1), stride=(1, 1), bias=False)\n",
              "      (bn1): BatchNorm2d(512, eps=1e-05, momentum=0.1, affine=True, track_running_stats=True)\n",
              "      (conv2): Conv2d(512, 512, kernel_size=(3, 3), stride=(2, 2), padding=(1, 1), bias=False)\n",
              "      (bn2): BatchNorm2d(512, eps=1e-05, momentum=0.1, affine=True, track_running_stats=True)\n",
              "      (conv3): Conv2d(512, 2048, kernel_size=(1, 1), stride=(1, 1), bias=False)\n",
              "      (bn3): BatchNorm2d(2048, eps=1e-05, momentum=0.1, affine=True, track_running_stats=True)\n",
              "      (relu): ReLU(inplace=True)\n",
              "      (downsample): Sequential(\n",
              "        (0): Conv2d(1024, 2048, kernel_size=(1, 1), stride=(2, 2), bias=False)\n",
              "        (1): BatchNorm2d(2048, eps=1e-05, momentum=0.1, affine=True, track_running_stats=True)\n",
              "      )\n",
              "    )\n",
              "    (1): Bottleneck(\n",
              "      (conv1): Conv2d(2048, 512, kernel_size=(1, 1), stride=(1, 1), bias=False)\n",
              "      (bn1): BatchNorm2d(512, eps=1e-05, momentum=0.1, affine=True, track_running_stats=True)\n",
              "      (conv2): Conv2d(512, 512, kernel_size=(3, 3), stride=(1, 1), padding=(1, 1), bias=False)\n",
              "      (bn2): BatchNorm2d(512, eps=1e-05, momentum=0.1, affine=True, track_running_stats=True)\n",
              "      (conv3): Conv2d(512, 2048, kernel_size=(1, 1), stride=(1, 1), bias=False)\n",
              "      (bn3): BatchNorm2d(2048, eps=1e-05, momentum=0.1, affine=True, track_running_stats=True)\n",
              "      (relu): ReLU(inplace=True)\n",
              "    )\n",
              "    (2): Bottleneck(\n",
              "      (conv1): Conv2d(2048, 512, kernel_size=(1, 1), stride=(1, 1), bias=False)\n",
              "      (bn1): BatchNorm2d(512, eps=1e-05, momentum=0.1, affine=True, track_running_stats=True)\n",
              "      (conv2): Conv2d(512, 512, kernel_size=(3, 3), stride=(1, 1), padding=(1, 1), bias=False)\n",
              "      (bn2): BatchNorm2d(512, eps=1e-05, momentum=0.1, affine=True, track_running_stats=True)\n",
              "      (conv3): Conv2d(512, 2048, kernel_size=(1, 1), stride=(1, 1), bias=False)\n",
              "      (bn3): BatchNorm2d(2048, eps=1e-05, momentum=0.1, affine=True, track_running_stats=True)\n",
              "      (relu): ReLU(inplace=True)\n",
              "    )\n",
              "  )\n",
              "  (avgpool): AdaptiveAvgPool2d(output_size=(1, 1))\n",
              "  (fc): Sequential(\n",
              "    (0): Linear(in_features=2048, out_features=512, bias=True)\n",
              "    (1): Linear(in_features=512, out_features=18, bias=True)\n",
              "  )\n",
              ")"
            ]
          },
          "metadata": {
            "tags": []
          },
          "execution_count": 159
        }
      ]
    },
    {
      "cell_type": "code",
      "metadata": {
        "id": "iRoeYRgD8OEv"
      },
      "source": [
        "resnet50_3 = models.resnet50(pretrained=True)\n",
        "resnet50_3 = models.resnet50(pretrained=True)\n",
        "resnet50_3.fc = nn.Linear(in_features=512, out_features=18, bias=True)\n",
        "\n",
        "layers = [\n",
        "          resnet50_3.conv1,\n",
        "          resnet50_3.bn1,\n",
        "          resnet50_3.relu,\n",
        "          resnet50_3.maxpool,\n",
        "          resnet50_3.layer1,\n",
        "          resnet50_3.layer2,\n",
        "          resnet50_3.avgpool,\n",
        "          resnet50_3.fc\n",
        "]\n",
        "resnet50_new = nn.Sequential(*layers).to('cuda')"
      ],
      "execution_count": null,
      "outputs": []
    },
    {
      "cell_type": "code",
      "metadata": {
        "id": "tPZ1a1h7GKdZ"
      },
      "source": [
        "resnet101 = models.resnet101(pretrained=True)\n",
        "resnet101.fc = nn.Linear(in_features=2048, out_features=18, bias=True)\n",
        "resnet101.to('cuda')"
      ],
      "execution_count": null,
      "outputs": []
    },
    {
      "cell_type": "markdown",
      "metadata": {
        "id": "ej-ZIaK2gPRY"
      },
      "source": [
        "# **3 Training and Testing Procedures**"
      ]
    },
    {
      "cell_type": "code",
      "metadata": {
        "id": "uaYnUwSjiWEF"
      },
      "source": [
        "# multi-label: sigmoid + cross entropy\n",
        "# reference: https://lipengwei.github.io/2018/08/03/CNN%E5%A4%9A%E6%A0%87%E7%AD%BE%E5%88%86%E7%B1%BB%E5%AE%9E%E6%88%98/\n",
        "# reference: https://lipengwei.github.io/2018/07/31/%E6%9C%BA%E5%99%A8%E5%AD%A6%E4%B9%A0%E4%B9%8Bloss/\n",
        "# f1-score:\n",
        "# reference: https://gist.github.com/SuperShinyEyes/dcc68a08ff8b615442e3bc6a9b55a354\n",
        "# reference: https://scikit-learn.org/stable/modules/model_evaluation.html#from-binary-to-multiclass-and-multilabel\n",
        "\n",
        "def train(model, epochs, train_loader, optimizer, criterion):\n",
        "    model.train()\n",
        "    for ep_idx in range(epochs):\n",
        "        ep_loss = 0.0\n",
        "        ep_f1_score = 0.0\n",
        "        for step, (x, y) in enumerate(train_loader):\n",
        "            x = x.to('cuda')\n",
        "            y = y.float().to('cuda')\n",
        "            optimizer.zero_grad()\n",
        "            out = model(x)\n",
        "            loss = criterion(out,y)\n",
        "            #_, preds = torch.max(out.to('cpu'), dim=1)\n",
        "            #print(out.data.shape)\n",
        "            #print(y.shape)\n",
        "            f1_score = metrics.f1_score( y.data.cpu().numpy(), out.data.cpu().numpy()>THRESHOLD, average='samples')\n",
        "\n",
        "            ep_loss += loss\n",
        "            ep_f1_score += f1_score\n",
        "            loss.backward()\n",
        "            optimizer.step()\n",
        "       # print(\"epoch %d/%d: loss = %.2f\" %(ep_idx+1, epochs, ep_loss/(step+1)))\n",
        "        print(\"epoch %d/%d:\" % (ep_idx+1, epochs))\n",
        "        print(\"train# loss = %.2f, f1 score = %.2f\" %(ep_loss/(step+1), ep_f1_score/(step+1)))     \n",
        "        val(model, val_loader,criterion)    \n",
        "\n",
        "def val(model, val_loader, criterion):\n",
        "    model.eval()\n",
        "    with torch.no_grad():\n",
        "        ep_loss = 0.0\n",
        "        ep_f1_score = 0.0\n",
        "        for step, (x, y) in enumerate(val_loader):\n",
        "            x = x.to('cuda')\n",
        "            y = y.float().to('cuda')\n",
        "            out = model(x)\n",
        "            loss = criterion(out,y)\n",
        "            f1_score = metrics.f1_score( y.data.cpu().numpy(), out.data.cpu().numpy()>THRESHOLD, average='samples')\n",
        "            ep_loss += loss\n",
        "            ep_f1_score += f1_score \n",
        "        print(\"val# loss = %.2f, acc = %.2f\" %(ep_loss/(step+1), ep_f1_score/(step+1)))\n",
        "\n",
        "def test(model, test_loader):\n",
        "    model.eval()\n",
        "    output = []\n",
        "    with torch.no_grad():\n",
        "        for step, x in enumerate(test_loader):\n",
        "            x = x.to('cuda')\n",
        "            out = model(x)\n",
        "            out = torch.sigmoid(out)\n",
        "            output.append(out)\n",
        "    return output"
      ],
      "execution_count": 1,
      "outputs": []
    },
    {
      "cell_type": "markdown",
      "metadata": {
        "id": "iRlb_tS8gbJ5"
      },
      "source": [
        "# **4 Runtime**"
      ]
    },
    {
      "cell_type": "markdown",
      "metadata": {
        "id": "nBLPf1cOBKSq"
      },
      "source": [
        "**model 1**"
      ]
    },
    {
      "cell_type": "code",
      "metadata": {
        "id": "DVXiRaT2kxOz"
      },
      "source": [
        "EPOCHS = 6\n",
        "LEARNING_RATE = 0.0001\n",
        "MOMENTUM = 0.9\n",
        "#optimizer = torch.optim.SGD(resnet50.parameters(), LEARNING_RATE, MOMENTUM)\n",
        "#optimizer = torch.optim.Adam(resnet50.parameters(), LEARNING_RATE)\n",
        "optimizer_2 = torch.optim.Adam(resnet50_2.parameters(), LEARNING_RATE)\n",
        "criterion = nn.MultiLabelSoftMarginLoss()\n",
        "criterion_BCE = nn.BCEWithLogitsLoss()\n",
        "# criterion = MultiLabelMarginLoss\n",
        "THRESHOLD = 0.5"
      ],
      "execution_count": 31,
      "outputs": []
    },
    {
      "cell_type": "code",
      "metadata": {
        "id": "AIA8X9SJgeBK",
        "colab": {
          "base_uri": "https://localhost:8080/"
        },
        "outputId": "a45f7b81-0c11-4c75-a425-e348bf3e99ef"
      },
      "source": [
        "train(resnet50, EPOCHS, train_loader, optimizer, criterion)"
      ],
      "execution_count": 14,
      "outputs": [
        {
          "output_type": "stream",
          "text": [
            "epoch 1/10:\n",
            "train# loss = 0.14, f1 score = 0.71\n",
            "val# loss = 0.09, acc = 0.80\n",
            "epoch 2/10:\n",
            "train# loss = 0.09, f1 score = 0.80\n",
            "val# loss = 0.10, acc = 0.78\n",
            "epoch 3/10:\n",
            "train# loss = 0.07, f1 score = 0.87\n",
            "val# loss = 0.09, acc = 0.81\n",
            "epoch 4/10:\n",
            "train# loss = 0.06, f1 score = 0.89\n",
            "val# loss = 0.10, acc = 0.82\n",
            "epoch 5/10:\n",
            "train# loss = 0.05, f1 score = 0.92\n",
            "val# loss = 0.10, acc = 0.81\n",
            "epoch 6/10:\n",
            "train# loss = 0.04, f1 score = 0.93\n",
            "val# loss = 0.11, acc = 0.83\n",
            "epoch 7/10:\n",
            "train# loss = 0.03, f1 score = 0.95\n",
            "val# loss = 0.12, acc = 0.82\n",
            "epoch 8/10:\n",
            "train# loss = 0.03, f1 score = 0.96\n",
            "val# loss = 0.12, acc = 0.83\n",
            "epoch 9/10:\n",
            "train# loss = 0.02, f1 score = 0.97\n",
            "val# loss = 0.14, acc = 0.83\n",
            "epoch 10/10:\n",
            "train# loss = 0.02, f1 score = 0.97\n",
            "val# loss = 0.13, acc = 0.84\n"
          ],
          "name": "stdout"
        }
      ]
    },
    {
      "cell_type": "code",
      "metadata": {
        "id": "4nJVOeXZKc3M"
      },
      "source": [
        "torch.save(resnet50,\"resnet50.pkl\")"
      ],
      "execution_count": 47,
      "outputs": []
    },
    {
      "cell_type": "code",
      "metadata": {
        "id": "O7EN_PZvS7B7"
      },
      "source": [
        "output = test(resnet50, test_loader)"
      ],
      "execution_count": 15,
      "outputs": []
    },
    {
      "cell_type": "code",
      "metadata": {
        "id": "a27xQCGxBOcO"
      },
      "source": [
        ""
      ],
      "execution_count": null,
      "outputs": []
    },
    {
      "cell_type": "markdown",
      "metadata": {
        "id": "k1LfjhqYAcQO"
      },
      "source": [
        "**model 2**"
      ]
    },
    {
      "cell_type": "code",
      "metadata": {
        "colab": {
          "base_uri": "https://localhost:8080/"
        },
        "id": "5uVQSm78A_wi",
        "outputId": "2ae3fe64-532b-4de8-accd-bba8f96e9240"
      },
      "source": [
        "train(resnet50_2, EPOCHS, train_loader, optimizer_2, criterion_BCE)"
      ],
      "execution_count": 28,
      "outputs": [
        {
          "output_type": "stream",
          "text": [
            "epoch 1/8:\n",
            "train# loss = 0.10, f1 score = 0.76\n",
            "val# loss = 0.09, acc = 0.80\n",
            "epoch 2/8:\n",
            "train# loss = 0.08, f1 score = 0.83\n",
            "val# loss = 0.09, acc = 0.80\n",
            "epoch 3/8:\n",
            "train# loss = 0.06, f1 score = 0.87\n",
            "val# loss = 0.09, acc = 0.81\n",
            "epoch 4/8:\n",
            "train# loss = 0.05, f1 score = 0.90\n",
            "val# loss = 0.10, acc = 0.79\n",
            "epoch 5/8:\n",
            "train# loss = 0.04, f1 score = 0.92\n",
            "val# loss = 0.10, acc = 0.83\n",
            "epoch 6/8:\n",
            "train# loss = 0.04, f1 score = 0.93\n",
            "val# loss = 0.11, acc = 0.83\n",
            "epoch 7/8:\n",
            "train# loss = 0.03, f1 score = 0.95\n",
            "val# loss = 0.13, acc = 0.82\n",
            "epoch 8/8:\n",
            "train# loss = 0.02, f1 score = 0.96\n",
            "val# loss = 0.13, acc = 0.83\n"
          ],
          "name": "stdout"
        }
      ]
    },
    {
      "cell_type": "code",
      "metadata": {
        "id": "M4uk8RFSKk5C"
      },
      "source": [
        "torch.save(resnet50_2,\"resnet50_2.pkl\")"
      ],
      "execution_count": 33,
      "outputs": []
    },
    {
      "cell_type": "code",
      "metadata": {
        "id": "sw4vhltkABLb"
      },
      "source": [
        "output_2 = test(resnet50_2, test_loader)"
      ],
      "execution_count": 61,
      "outputs": []
    },
    {
      "cell_type": "markdown",
      "metadata": {
        "id": "0GrwjEcaXF8J"
      },
      "source": [
        "# **Test Result**"
      ]
    },
    {
      "cell_type": "code",
      "metadata": {
        "id": "xXHV_9v2Er-g"
      },
      "source": [
        "Label = []\n",
        "for img in output_2:\n",
        "    l = []\n",
        "    img = np.squeeze(img.data.cpu().numpy())\n",
        "    for i in range(18):\n",
        "        if img[i] > THRESHOLD:\n",
        "            l.append(i)\n",
        "    Label.append(l)"
      ],
      "execution_count": 93,
      "outputs": []
    },
    {
      "cell_type": "code",
      "metadata": {
        "id": "a2R23stGJau0"
      },
      "source": [
        "def label_transform_original(a):\n",
        "    label = []\n",
        "    for i in range(len(a)):\n",
        "        l = []\n",
        "        for j in a[i]:\n",
        "            if j >= 11:\n",
        "                j += 1\n",
        "            j+=1\n",
        "            l.append(str(j))\n",
        "        label.append([test_images[i],\" \".join(l)])\n",
        "    return label"
      ],
      "execution_count": 155,
      "outputs": []
    },
    {
      "cell_type": "code",
      "metadata": {
        "id": "v_Brp_4AKp9l"
      },
      "source": [
        "label = label_transform_original(Label)"
      ],
      "execution_count": 156,
      "outputs": []
    },
    {
      "cell_type": "code",
      "metadata": {
        "id": "dhJgmp8VKyAI"
      },
      "source": [
        "import pandas as pd\n",
        "\n",
        "head_name=['ImageID', 'Labels']\n",
        "file_content = pd.DataFrame(columns=head_name,data=label)\n",
        "file_content.to_csv('predict_result_2.csv', index=False)"
      ],
      "execution_count": 158,
      "outputs": []
    },
    {
      "cell_type": "code",
      "metadata": {
        "id": "TGJoQ44xNcbk"
      },
      "source": [
        ""
      ],
      "execution_count": null,
      "outputs": []
    },
    {
      "cell_type": "code",
      "metadata": {
        "id": "Wy8vUoa7XDMq"
      },
      "source": [
        ""
      ],
      "execution_count": null,
      "outputs": []
    },
    {
      "cell_type": "code",
      "metadata": {
        "id": "m2w1cM47XDRH"
      },
      "source": [
        ""
      ],
      "execution_count": null,
      "outputs": []
    },
    {
      "cell_type": "code",
      "metadata": {
        "id": "45yh1vyXXDZQ"
      },
      "source": [
        ""
      ],
      "execution_count": null,
      "outputs": []
    },
    {
      "cell_type": "code",
      "metadata": {
        "id": "HiWdHKrOLoYp"
      },
      "source": [
        "from matplotlib import image\n",
        "import matplotlib.pyplot as plt\n",
        "\n",
        "img = 0\n",
        "for i in test_loader:\n",
        "    img = i\n",
        "    break\n",
        "\n",
        "plt.imshow(img[0][1])"
      ],
      "execution_count": null,
      "outputs": []
    },
    {
      "cell_type": "code",
      "metadata": {
        "colab": {
          "base_uri": "https://localhost:8080/"
        },
        "id": "vfyAYXYeLLnj",
        "outputId": "41a52958-da5a-42dd-9304-85ef2909c433"
      },
      "source": [
        "o[0][4].data.cpu().numpy()"
      ],
      "execution_count": 69,
      "outputs": [
        {
          "output_type": "execute_result",
          "data": {
            "text/plain": [
              "array([9.9985015e-01, 1.3862969e-05, 9.9445795e-05, 1.3061014e-05,\n",
              "       1.8415577e-06, 5.5402586e-05, 2.8225541e-05, 6.0484599e-05,\n",
              "       9.6157886e-04, 1.0445542e-06, 2.4895284e-05, 3.0537183e-05,\n",
              "       2.2205402e-05, 7.1643776e-06, 6.9849542e-03, 1.4869279e-04,\n",
              "       9.1648028e-05, 5.5404751e-05], dtype=float32)"
            ]
          },
          "metadata": {
            "tags": []
          },
          "execution_count": 69
        }
      ]
    },
    {
      "cell_type": "code",
      "metadata": {
        "colab": {
          "base_uri": "https://localhost:8080/"
        },
        "id": "kIZIaUdN7Wzj",
        "outputId": "51c11616-7b9a-4787-9d5e-78e40b914ce4"
      },
      "source": [
        "x = x.detach().cpu()\n",
        "sorted_indices = np.argsort(x)\n",
        "sorted_indices"
      ],
      "execution_count": 24,
      "outputs": [
        {
          "output_type": "execute_result",
          "data": {
            "text/plain": [
              "tensor([ 7,  9, 10, 11,  3,  8,  5,  2, 12, 17, 16,  6,  4, 13,  0, 14,  1, 15])"
            ]
          },
          "metadata": {
            "tags": []
          },
          "execution_count": 24
        }
      ]
    },
    {
      "cell_type": "code",
      "metadata": {
        "id": "tMIY6JNw02Fa"
      },
      "source": [
        ""
      ],
      "execution_count": null,
      "outputs": []
    },
    {
      "cell_type": "code",
      "metadata": {
        "colab": {
          "base_uri": "https://localhost:8080/"
        },
        "id": "_kYliAQ9Xkat",
        "outputId": "e0210095-93d5-4d3c-9b7c-9ec2f030800e"
      },
      "source": [
        "## example\n",
        "import torch\n",
        "import numpy as np\n",
        "\n",
        "pred = np.array([[-0.4089, -1.2471, 0.5907],\n",
        "                [-0.4897, -0.8267, -0.7349],\n",
        "                [0.5241, -0.1246, -0.4751]])\n",
        "label = np.array([[0, 1, 1],\n",
        "                  [0, 0, 1],\n",
        "                  [1, 0, 1]])\n",
        "\n",
        "pred = torch.from_numpy(pred).float()\n",
        "label = torch.from_numpy(label).float()\n",
        "\n",
        "crition1 = torch.nn.BCEWithLogitsLoss()\n",
        "loss1 = crition1(pred, label)\n",
        "print(loss1)\n",
        "\n",
        "crition2 = torch.nn.MultiLabelSoftMarginLoss()\n",
        "loss2 = crition2(pred, label)\n",
        "print(loss2)\n",
        "f1_score = metrics.f1_score( label.data.to('cuda').numpy(), pred.data.to('cuda').numpy()>0, average='samples')\n",
        "print(f1_score)"
      ],
      "execution_count": null,
      "outputs": [
        {
          "output_type": "stream",
          "text": [
            "tensor(0.7193)\n",
            "tensor(0.7193)\n",
            "0.4444444444444444\n"
          ],
          "name": "stdout"
        }
      ]
    },
    {
      "cell_type": "markdown",
      "metadata": {
        "id": "NT-8PrIpGB3u"
      },
      "source": [
        "**model 3**"
      ]
    },
    {
      "cell_type": "code",
      "metadata": {
        "id": "B3-e62b9GA-B"
      },
      "source": [
        "EPOCHS = 8\n",
        "LEARNING_RATE = 0.001\n",
        "optimizer = torch.optim.SGD(resnet101.parameters(), LEARNING_RATE)\n",
        "criterion = nn.MultiLabelSoftMarginLoss()"
      ],
      "execution_count": null,
      "outputs": []
    },
    {
      "cell_type": "code",
      "metadata": {
        "colab": {
          "base_uri": "https://localhost:8080/",
          "height": 345
        },
        "id": "_VnpXBLxG7Ou",
        "outputId": "9f3c2851-6227-425c-891d-28741d778a7f"
      },
      "source": [
        "train(resnet101, EPOCHS, train_loader, optimizer, criterion)"
      ],
      "execution_count": null,
      "outputs": [
        {
          "output_type": "error",
          "ename": "RuntimeError",
          "evalue": "ignored",
          "traceback": [
            "\u001b[0;31m---------------------------------------------------------------------------\u001b[0m",
            "\u001b[0;31mRuntimeError\u001b[0m                              Traceback (most recent call last)",
            "\u001b[0;32m<ipython-input-16-905839060310>\u001b[0m in \u001b[0;36m<module>\u001b[0;34m()\u001b[0m\n\u001b[0;32m----> 1\u001b[0;31m \u001b[0mtrain\u001b[0m\u001b[0;34m(\u001b[0m\u001b[0mresnet101\u001b[0m\u001b[0;34m,\u001b[0m \u001b[0mEPOCHS\u001b[0m\u001b[0;34m,\u001b[0m \u001b[0mtrain_loader\u001b[0m\u001b[0;34m,\u001b[0m \u001b[0moptimizer\u001b[0m\u001b[0;34m,\u001b[0m \u001b[0mcriterion\u001b[0m\u001b[0;34m)\u001b[0m\u001b[0;34m\u001b[0m\u001b[0;34m\u001b[0m\u001b[0m\n\u001b[0m",
            "\u001b[0;32m<ipython-input-13-84a0c093d534>\u001b[0m in \u001b[0;36mtrain\u001b[0;34m(model, epochs, train_loader, optimizer, criterion)\u001b[0m\n\u001b[1;32m     15\u001b[0m             \u001b[0my\u001b[0m \u001b[0;34m=\u001b[0m \u001b[0my\u001b[0m\u001b[0;34m.\u001b[0m\u001b[0mto\u001b[0m\u001b[0;34m(\u001b[0m\u001b[0;34m'cuda'\u001b[0m\u001b[0;34m)\u001b[0m\u001b[0;34m\u001b[0m\u001b[0;34m\u001b[0m\u001b[0m\n\u001b[1;32m     16\u001b[0m             \u001b[0moptimizer\u001b[0m\u001b[0;34m.\u001b[0m\u001b[0mzero_grad\u001b[0m\u001b[0;34m(\u001b[0m\u001b[0;34m)\u001b[0m\u001b[0;34m\u001b[0m\u001b[0;34m\u001b[0m\u001b[0m\n\u001b[0;32m---> 17\u001b[0;31m             \u001b[0mout\u001b[0m \u001b[0;34m=\u001b[0m \u001b[0mmodel\u001b[0m\u001b[0;34m(\u001b[0m\u001b[0mx\u001b[0m\u001b[0;34m)\u001b[0m\u001b[0;34m\u001b[0m\u001b[0;34m\u001b[0m\u001b[0m\n\u001b[0m\u001b[1;32m     18\u001b[0m             \u001b[0mloss\u001b[0m \u001b[0;34m=\u001b[0m \u001b[0mcriterion\u001b[0m\u001b[0;34m(\u001b[0m\u001b[0mout\u001b[0m\u001b[0;34m,\u001b[0m\u001b[0my\u001b[0m\u001b[0;34m)\u001b[0m\u001b[0;34m\u001b[0m\u001b[0;34m\u001b[0m\u001b[0m\n\u001b[1;32m     19\u001b[0m             \u001b[0;31m#_, preds = torch.max(out.to('cpu'), dim=1)\u001b[0m\u001b[0;34m\u001b[0m\u001b[0;34m\u001b[0m\u001b[0;34m\u001b[0m\u001b[0m\n",
            "\u001b[0;32m/usr/local/lib/python3.7/dist-packages/torch/nn/modules/module.py\u001b[0m in \u001b[0;36m_call_impl\u001b[0;34m(self, *input, **kwargs)\u001b[0m\n\u001b[1;32m    887\u001b[0m             \u001b[0mresult\u001b[0m \u001b[0;34m=\u001b[0m \u001b[0mself\u001b[0m\u001b[0;34m.\u001b[0m\u001b[0m_slow_forward\u001b[0m\u001b[0;34m(\u001b[0m\u001b[0;34m*\u001b[0m\u001b[0minput\u001b[0m\u001b[0;34m,\u001b[0m \u001b[0;34m**\u001b[0m\u001b[0mkwargs\u001b[0m\u001b[0;34m)\u001b[0m\u001b[0;34m\u001b[0m\u001b[0;34m\u001b[0m\u001b[0m\n\u001b[1;32m    888\u001b[0m         \u001b[0;32melse\u001b[0m\u001b[0;34m:\u001b[0m\u001b[0;34m\u001b[0m\u001b[0;34m\u001b[0m\u001b[0m\n\u001b[0;32m--> 889\u001b[0;31m             \u001b[0mresult\u001b[0m \u001b[0;34m=\u001b[0m \u001b[0mself\u001b[0m\u001b[0;34m.\u001b[0m\u001b[0mforward\u001b[0m\u001b[0;34m(\u001b[0m\u001b[0;34m*\u001b[0m\u001b[0minput\u001b[0m\u001b[0;34m,\u001b[0m \u001b[0;34m**\u001b[0m\u001b[0mkwargs\u001b[0m\u001b[0;34m)\u001b[0m\u001b[0;34m\u001b[0m\u001b[0;34m\u001b[0m\u001b[0m\n\u001b[0m\u001b[1;32m    890\u001b[0m         for hook in itertools.chain(\n\u001b[1;32m    891\u001b[0m                 \u001b[0m_global_forward_hooks\u001b[0m\u001b[0;34m.\u001b[0m\u001b[0mvalues\u001b[0m\u001b[0;34m(\u001b[0m\u001b[0;34m)\u001b[0m\u001b[0;34m,\u001b[0m\u001b[0;34m\u001b[0m\u001b[0;34m\u001b[0m\u001b[0m\n",
            "\u001b[0;32m/usr/local/lib/python3.7/dist-packages/torchvision/models/resnet.py\u001b[0m in \u001b[0;36mforward\u001b[0;34m(self, x)\u001b[0m\n\u001b[1;32m    247\u001b[0m \u001b[0;34m\u001b[0m\u001b[0m\n\u001b[1;32m    248\u001b[0m     \u001b[0;32mdef\u001b[0m \u001b[0mforward\u001b[0m\u001b[0;34m(\u001b[0m\u001b[0mself\u001b[0m\u001b[0;34m,\u001b[0m \u001b[0mx\u001b[0m\u001b[0;34m:\u001b[0m \u001b[0mTensor\u001b[0m\u001b[0;34m)\u001b[0m \u001b[0;34m->\u001b[0m \u001b[0mTensor\u001b[0m\u001b[0;34m:\u001b[0m\u001b[0;34m\u001b[0m\u001b[0;34m\u001b[0m\u001b[0m\n\u001b[0;32m--> 249\u001b[0;31m         \u001b[0;32mreturn\u001b[0m \u001b[0mself\u001b[0m\u001b[0;34m.\u001b[0m\u001b[0m_forward_impl\u001b[0m\u001b[0;34m(\u001b[0m\u001b[0mx\u001b[0m\u001b[0;34m)\u001b[0m\u001b[0;34m\u001b[0m\u001b[0;34m\u001b[0m\u001b[0m\n\u001b[0m\u001b[1;32m    250\u001b[0m \u001b[0;34m\u001b[0m\u001b[0m\n\u001b[1;32m    251\u001b[0m \u001b[0;34m\u001b[0m\u001b[0m\n",
            "\u001b[0;32m/usr/local/lib/python3.7/dist-packages/torchvision/models/resnet.py\u001b[0m in \u001b[0;36m_forward_impl\u001b[0;34m(self, x)\u001b[0m\n\u001b[1;32m    237\u001b[0m         \u001b[0mx\u001b[0m \u001b[0;34m=\u001b[0m \u001b[0mself\u001b[0m\u001b[0;34m.\u001b[0m\u001b[0mlayer1\u001b[0m\u001b[0;34m(\u001b[0m\u001b[0mx\u001b[0m\u001b[0;34m)\u001b[0m\u001b[0;34m\u001b[0m\u001b[0;34m\u001b[0m\u001b[0m\n\u001b[1;32m    238\u001b[0m         \u001b[0mx\u001b[0m \u001b[0;34m=\u001b[0m \u001b[0mself\u001b[0m\u001b[0;34m.\u001b[0m\u001b[0mlayer2\u001b[0m\u001b[0;34m(\u001b[0m\u001b[0mx\u001b[0m\u001b[0;34m)\u001b[0m\u001b[0;34m\u001b[0m\u001b[0;34m\u001b[0m\u001b[0m\n\u001b[0;32m--> 239\u001b[0;31m         \u001b[0mx\u001b[0m \u001b[0;34m=\u001b[0m \u001b[0mself\u001b[0m\u001b[0;34m.\u001b[0m\u001b[0mlayer3\u001b[0m\u001b[0;34m(\u001b[0m\u001b[0mx\u001b[0m\u001b[0;34m)\u001b[0m\u001b[0;34m\u001b[0m\u001b[0;34m\u001b[0m\u001b[0m\n\u001b[0m\u001b[1;32m    240\u001b[0m         \u001b[0mx\u001b[0m \u001b[0;34m=\u001b[0m \u001b[0mself\u001b[0m\u001b[0;34m.\u001b[0m\u001b[0mlayer4\u001b[0m\u001b[0;34m(\u001b[0m\u001b[0mx\u001b[0m\u001b[0;34m)\u001b[0m\u001b[0;34m\u001b[0m\u001b[0;34m\u001b[0m\u001b[0m\n\u001b[1;32m    241\u001b[0m \u001b[0;34m\u001b[0m\u001b[0m\n",
            "\u001b[0;32m/usr/local/lib/python3.7/dist-packages/torch/nn/modules/module.py\u001b[0m in \u001b[0;36m_call_impl\u001b[0;34m(self, *input, **kwargs)\u001b[0m\n\u001b[1;32m    887\u001b[0m             \u001b[0mresult\u001b[0m \u001b[0;34m=\u001b[0m \u001b[0mself\u001b[0m\u001b[0;34m.\u001b[0m\u001b[0m_slow_forward\u001b[0m\u001b[0;34m(\u001b[0m\u001b[0;34m*\u001b[0m\u001b[0minput\u001b[0m\u001b[0;34m,\u001b[0m \u001b[0;34m**\u001b[0m\u001b[0mkwargs\u001b[0m\u001b[0;34m)\u001b[0m\u001b[0;34m\u001b[0m\u001b[0;34m\u001b[0m\u001b[0m\n\u001b[1;32m    888\u001b[0m         \u001b[0;32melse\u001b[0m\u001b[0;34m:\u001b[0m\u001b[0;34m\u001b[0m\u001b[0;34m\u001b[0m\u001b[0m\n\u001b[0;32m--> 889\u001b[0;31m             \u001b[0mresult\u001b[0m \u001b[0;34m=\u001b[0m \u001b[0mself\u001b[0m\u001b[0;34m.\u001b[0m\u001b[0mforward\u001b[0m\u001b[0;34m(\u001b[0m\u001b[0;34m*\u001b[0m\u001b[0minput\u001b[0m\u001b[0;34m,\u001b[0m \u001b[0;34m**\u001b[0m\u001b[0mkwargs\u001b[0m\u001b[0;34m)\u001b[0m\u001b[0;34m\u001b[0m\u001b[0;34m\u001b[0m\u001b[0m\n\u001b[0m\u001b[1;32m    890\u001b[0m         for hook in itertools.chain(\n\u001b[1;32m    891\u001b[0m                 \u001b[0m_global_forward_hooks\u001b[0m\u001b[0;34m.\u001b[0m\u001b[0mvalues\u001b[0m\u001b[0;34m(\u001b[0m\u001b[0;34m)\u001b[0m\u001b[0;34m,\u001b[0m\u001b[0;34m\u001b[0m\u001b[0;34m\u001b[0m\u001b[0m\n",
            "\u001b[0;32m/usr/local/lib/python3.7/dist-packages/torch/nn/modules/container.py\u001b[0m in \u001b[0;36mforward\u001b[0;34m(self, input)\u001b[0m\n\u001b[1;32m    117\u001b[0m     \u001b[0;32mdef\u001b[0m \u001b[0mforward\u001b[0m\u001b[0;34m(\u001b[0m\u001b[0mself\u001b[0m\u001b[0;34m,\u001b[0m \u001b[0minput\u001b[0m\u001b[0;34m)\u001b[0m\u001b[0;34m:\u001b[0m\u001b[0;34m\u001b[0m\u001b[0;34m\u001b[0m\u001b[0m\n\u001b[1;32m    118\u001b[0m         \u001b[0;32mfor\u001b[0m \u001b[0mmodule\u001b[0m \u001b[0;32min\u001b[0m \u001b[0mself\u001b[0m\u001b[0;34m:\u001b[0m\u001b[0;34m\u001b[0m\u001b[0;34m\u001b[0m\u001b[0m\n\u001b[0;32m--> 119\u001b[0;31m             \u001b[0minput\u001b[0m \u001b[0;34m=\u001b[0m \u001b[0mmodule\u001b[0m\u001b[0;34m(\u001b[0m\u001b[0minput\u001b[0m\u001b[0;34m)\u001b[0m\u001b[0;34m\u001b[0m\u001b[0;34m\u001b[0m\u001b[0m\n\u001b[0m\u001b[1;32m    120\u001b[0m         \u001b[0;32mreturn\u001b[0m \u001b[0minput\u001b[0m\u001b[0;34m\u001b[0m\u001b[0;34m\u001b[0m\u001b[0m\n\u001b[1;32m    121\u001b[0m \u001b[0;34m\u001b[0m\u001b[0m\n",
            "\u001b[0;32m/usr/local/lib/python3.7/dist-packages/torch/nn/modules/module.py\u001b[0m in \u001b[0;36m_call_impl\u001b[0;34m(self, *input, **kwargs)\u001b[0m\n\u001b[1;32m    887\u001b[0m             \u001b[0mresult\u001b[0m \u001b[0;34m=\u001b[0m \u001b[0mself\u001b[0m\u001b[0;34m.\u001b[0m\u001b[0m_slow_forward\u001b[0m\u001b[0;34m(\u001b[0m\u001b[0;34m*\u001b[0m\u001b[0minput\u001b[0m\u001b[0;34m,\u001b[0m \u001b[0;34m**\u001b[0m\u001b[0mkwargs\u001b[0m\u001b[0;34m)\u001b[0m\u001b[0;34m\u001b[0m\u001b[0;34m\u001b[0m\u001b[0m\n\u001b[1;32m    888\u001b[0m         \u001b[0;32melse\u001b[0m\u001b[0;34m:\u001b[0m\u001b[0;34m\u001b[0m\u001b[0;34m\u001b[0m\u001b[0m\n\u001b[0;32m--> 889\u001b[0;31m             \u001b[0mresult\u001b[0m \u001b[0;34m=\u001b[0m \u001b[0mself\u001b[0m\u001b[0;34m.\u001b[0m\u001b[0mforward\u001b[0m\u001b[0;34m(\u001b[0m\u001b[0;34m*\u001b[0m\u001b[0minput\u001b[0m\u001b[0;34m,\u001b[0m \u001b[0;34m**\u001b[0m\u001b[0mkwargs\u001b[0m\u001b[0;34m)\u001b[0m\u001b[0;34m\u001b[0m\u001b[0;34m\u001b[0m\u001b[0m\n\u001b[0m\u001b[1;32m    890\u001b[0m         for hook in itertools.chain(\n\u001b[1;32m    891\u001b[0m                 \u001b[0m_global_forward_hooks\u001b[0m\u001b[0;34m.\u001b[0m\u001b[0mvalues\u001b[0m\u001b[0;34m(\u001b[0m\u001b[0;34m)\u001b[0m\u001b[0;34m,\u001b[0m\u001b[0;34m\u001b[0m\u001b[0;34m\u001b[0m\u001b[0m\n",
            "\u001b[0;32m/usr/local/lib/python3.7/dist-packages/torchvision/models/resnet.py\u001b[0m in \u001b[0;36mforward\u001b[0;34m(self, x)\u001b[0m\n\u001b[1;32m    131\u001b[0m \u001b[0;34m\u001b[0m\u001b[0m\n\u001b[1;32m    132\u001b[0m         \u001b[0mout\u001b[0m \u001b[0;34m=\u001b[0m \u001b[0mself\u001b[0m\u001b[0;34m.\u001b[0m\u001b[0mconv3\u001b[0m\u001b[0;34m(\u001b[0m\u001b[0mout\u001b[0m\u001b[0;34m)\u001b[0m\u001b[0;34m\u001b[0m\u001b[0;34m\u001b[0m\u001b[0m\n\u001b[0;32m--> 133\u001b[0;31m         \u001b[0mout\u001b[0m \u001b[0;34m=\u001b[0m \u001b[0mself\u001b[0m\u001b[0;34m.\u001b[0m\u001b[0mbn3\u001b[0m\u001b[0;34m(\u001b[0m\u001b[0mout\u001b[0m\u001b[0;34m)\u001b[0m\u001b[0;34m\u001b[0m\u001b[0;34m\u001b[0m\u001b[0m\n\u001b[0m\u001b[1;32m    134\u001b[0m \u001b[0;34m\u001b[0m\u001b[0m\n\u001b[1;32m    135\u001b[0m         \u001b[0;32mif\u001b[0m \u001b[0mself\u001b[0m\u001b[0;34m.\u001b[0m\u001b[0mdownsample\u001b[0m \u001b[0;32mis\u001b[0m \u001b[0;32mnot\u001b[0m \u001b[0;32mNone\u001b[0m\u001b[0;34m:\u001b[0m\u001b[0;34m\u001b[0m\u001b[0;34m\u001b[0m\u001b[0m\n",
            "\u001b[0;32m/usr/local/lib/python3.7/dist-packages/torch/nn/modules/module.py\u001b[0m in \u001b[0;36m_call_impl\u001b[0;34m(self, *input, **kwargs)\u001b[0m\n\u001b[1;32m    887\u001b[0m             \u001b[0mresult\u001b[0m \u001b[0;34m=\u001b[0m \u001b[0mself\u001b[0m\u001b[0;34m.\u001b[0m\u001b[0m_slow_forward\u001b[0m\u001b[0;34m(\u001b[0m\u001b[0;34m*\u001b[0m\u001b[0minput\u001b[0m\u001b[0;34m,\u001b[0m \u001b[0;34m**\u001b[0m\u001b[0mkwargs\u001b[0m\u001b[0;34m)\u001b[0m\u001b[0;34m\u001b[0m\u001b[0;34m\u001b[0m\u001b[0m\n\u001b[1;32m    888\u001b[0m         \u001b[0;32melse\u001b[0m\u001b[0;34m:\u001b[0m\u001b[0;34m\u001b[0m\u001b[0;34m\u001b[0m\u001b[0m\n\u001b[0;32m--> 889\u001b[0;31m             \u001b[0mresult\u001b[0m \u001b[0;34m=\u001b[0m \u001b[0mself\u001b[0m\u001b[0;34m.\u001b[0m\u001b[0mforward\u001b[0m\u001b[0;34m(\u001b[0m\u001b[0;34m*\u001b[0m\u001b[0minput\u001b[0m\u001b[0;34m,\u001b[0m \u001b[0;34m**\u001b[0m\u001b[0mkwargs\u001b[0m\u001b[0;34m)\u001b[0m\u001b[0;34m\u001b[0m\u001b[0;34m\u001b[0m\u001b[0m\n\u001b[0m\u001b[1;32m    890\u001b[0m         for hook in itertools.chain(\n\u001b[1;32m    891\u001b[0m                 \u001b[0m_global_forward_hooks\u001b[0m\u001b[0;34m.\u001b[0m\u001b[0mvalues\u001b[0m\u001b[0;34m(\u001b[0m\u001b[0;34m)\u001b[0m\u001b[0;34m,\u001b[0m\u001b[0;34m\u001b[0m\u001b[0;34m\u001b[0m\u001b[0m\n",
            "\u001b[0;32m/usr/local/lib/python3.7/dist-packages/torch/nn/modules/batchnorm.py\u001b[0m in \u001b[0;36mforward\u001b[0;34m(self, input)\u001b[0m\n\u001b[1;32m    138\u001b[0m             \u001b[0mself\u001b[0m\u001b[0;34m.\u001b[0m\u001b[0mrunning_mean\u001b[0m \u001b[0;32mif\u001b[0m \u001b[0;32mnot\u001b[0m \u001b[0mself\u001b[0m\u001b[0;34m.\u001b[0m\u001b[0mtraining\u001b[0m \u001b[0;32mor\u001b[0m \u001b[0mself\u001b[0m\u001b[0;34m.\u001b[0m\u001b[0mtrack_running_stats\u001b[0m \u001b[0;32melse\u001b[0m \u001b[0;32mNone\u001b[0m\u001b[0;34m,\u001b[0m\u001b[0;34m\u001b[0m\u001b[0;34m\u001b[0m\u001b[0m\n\u001b[1;32m    139\u001b[0m             \u001b[0mself\u001b[0m\u001b[0;34m.\u001b[0m\u001b[0mrunning_var\u001b[0m \u001b[0;32mif\u001b[0m \u001b[0;32mnot\u001b[0m \u001b[0mself\u001b[0m\u001b[0;34m.\u001b[0m\u001b[0mtraining\u001b[0m \u001b[0;32mor\u001b[0m \u001b[0mself\u001b[0m\u001b[0;34m.\u001b[0m\u001b[0mtrack_running_stats\u001b[0m \u001b[0;32melse\u001b[0m \u001b[0;32mNone\u001b[0m\u001b[0;34m,\u001b[0m\u001b[0;34m\u001b[0m\u001b[0;34m\u001b[0m\u001b[0m\n\u001b[0;32m--> 140\u001b[0;31m             self.weight, self.bias, bn_training, exponential_average_factor, self.eps)\n\u001b[0m\u001b[1;32m    141\u001b[0m \u001b[0;34m\u001b[0m\u001b[0m\n\u001b[1;32m    142\u001b[0m \u001b[0;34m\u001b[0m\u001b[0m\n",
            "\u001b[0;32m/usr/local/lib/python3.7/dist-packages/torch/nn/functional.py\u001b[0m in \u001b[0;36mbatch_norm\u001b[0;34m(input, running_mean, running_var, weight, bias, training, momentum, eps)\u001b[0m\n\u001b[1;32m   2148\u001b[0m \u001b[0;34m\u001b[0m\u001b[0m\n\u001b[1;32m   2149\u001b[0m     return torch.batch_norm(\n\u001b[0;32m-> 2150\u001b[0;31m         \u001b[0minput\u001b[0m\u001b[0;34m,\u001b[0m \u001b[0mweight\u001b[0m\u001b[0;34m,\u001b[0m \u001b[0mbias\u001b[0m\u001b[0;34m,\u001b[0m \u001b[0mrunning_mean\u001b[0m\u001b[0;34m,\u001b[0m \u001b[0mrunning_var\u001b[0m\u001b[0;34m,\u001b[0m \u001b[0mtraining\u001b[0m\u001b[0;34m,\u001b[0m \u001b[0mmomentum\u001b[0m\u001b[0;34m,\u001b[0m \u001b[0meps\u001b[0m\u001b[0;34m,\u001b[0m \u001b[0mtorch\u001b[0m\u001b[0;34m.\u001b[0m\u001b[0mbackends\u001b[0m\u001b[0;34m.\u001b[0m\u001b[0mcudnn\u001b[0m\u001b[0;34m.\u001b[0m\u001b[0menabled\u001b[0m\u001b[0;34m\u001b[0m\u001b[0;34m\u001b[0m\u001b[0m\n\u001b[0m\u001b[1;32m   2151\u001b[0m     )\n\u001b[1;32m   2152\u001b[0m \u001b[0;34m\u001b[0m\u001b[0m\n",
            "\u001b[0;31mRuntimeError\u001b[0m: CUDA out of memory. Tried to allocate 98.00 MiB (GPU 0; 15.78 GiB total capacity; 14.16 GiB already allocated; 94.75 MiB free; 14.39 GiB reserved in total by PyTorch)"
          ]
        }
      ]
    },
    {
      "cell_type": "markdown",
      "metadata": {
        "id": "MCuxJEwbDx0u"
      },
      "source": [
        "# **Reference**\n",
        "\n",
        "1. \n",
        "```\n",
        "https://thevatsalsaglani.medium.com/training-and-deploying-a-multi-label-image-classifier-using-pytorch-flask-reactjs-and-firebase-c39c96f9c427\n",
        "https://zhuanlan.zhihu.com/p/67220643\n",
        "---\n",
        "2. \n",
        "\n",
        "```\n",
        "https://blog.csdn.net/ganxiwu9686/article/details/103080695\n",
        "```\n",
        "\n",
        "\n",
        "\n",
        "![损失函数.jpg](data:image/jpeg;base64,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)\n",
        "---\n",
        "\n",
        "---\n",
        "3. \n",
        "```\n",
        "https://debuggercafe.com/multi-label-image-classification-with-pytorch-and-deep-learning/\n",
        "```\n"
      ]
    }
  ]
}